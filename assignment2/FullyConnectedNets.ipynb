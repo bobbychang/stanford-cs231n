{
 "cells": [
  {
   "cell_type": "markdown",
   "metadata": {},
   "source": [
    "# Fully-Connected Neural Nets\n",
    "In the previous homework you implemented a fully-connected two-layer neural network on CIFAR-10. The implementation was simple but not very modular since the loss and gradient were computed in a single monolithic function. This is manageable for a simple two-layer network, but would become impractical as we move to bigger models. Ideally we want to build networks using a more modular design so that we can implement different layer types in isolation and then snap them together into models with different architectures.\n",
    "\n",
    "In this exercise we will implement fully-connected networks using a more modular approach. For each layer we will implement a `forward` and a `backward` function. The `forward` function will receive inputs, weights, and other parameters and will return both an output and a `cache` object storing data needed for the backward pass, like this:\n",
    "\n",
    "```python\n",
    "def layer_forward(x, w):\n",
    "  \"\"\" Receive inputs x and weights w \"\"\"\n",
    "  # Do some computations ...\n",
    "  z = # ... some intermediate value\n",
    "  # Do some more computations ...\n",
    "  out = # the output\n",
    "   \n",
    "  cache = (x, w, z, out) # Values we need to compute gradients\n",
    "   \n",
    "  return out, cache\n",
    "```\n",
    "\n",
    "The backward pass will receive upstream derivatives and the `cache` object, and will return gradients with respect to the inputs and weights, like this:\n",
    "\n",
    "```python\n",
    "def layer_backward(dout, cache):\n",
    "  \"\"\"\n",
    "  Receive derivative of loss with respect to outputs and cache,\n",
    "  and compute derivative with respect to inputs.\n",
    "  \"\"\"\n",
    "  # Unpack cache values\n",
    "  x, w, z, out = cache\n",
    "  \n",
    "  # Use values in cache to compute derivatives\n",
    "  dx = # Derivative of loss with respect to x\n",
    "  dw = # Derivative of loss with respect to w\n",
    "  \n",
    "  return dx, dw\n",
    "```\n",
    "\n",
    "After implementing a bunch of layers this way, we will be able to easily combine them to build classifiers with different architectures.\n",
    "\n",
    "In addition to implementing fully-connected networks of arbitrary depth, we will also explore different update rules for optimization, and introduce Dropout as a regularizer and Batch Normalization as a tool to more efficiently optimize deep networks.\n",
    "  "
   ]
  },
  {
   "cell_type": "code",
   "execution_count": 2,
   "metadata": {},
   "outputs": [
    {
     "name": "stdout",
     "output_type": "stream",
     "text": [
      "run the following from the cs231n directory and try again:\n",
      "python setup.py build_ext --inplace\n",
      "You may also need to restart your iPython kernel\n"
     ]
    }
   ],
   "source": [
    "# As usual, a bit of setup\n",
    "from __future__ import print_function\n",
    "import time\n",
    "import numpy as np\n",
    "import matplotlib.pyplot as plt\n",
    "from cs231n.classifiers.fc_net import *\n",
    "from cs231n.data_utils import get_CIFAR10_data\n",
    "from cs231n.gradient_check import eval_numerical_gradient, eval_numerical_gradient_array\n",
    "from cs231n.solver import Solver\n",
    "\n",
    "%matplotlib inline\n",
    "plt.rcParams['figure.figsize'] = (10.0, 8.0) # set default size of plots\n",
    "plt.rcParams['image.interpolation'] = 'nearest'\n",
    "plt.rcParams['image.cmap'] = 'gray'\n",
    "\n",
    "# for auto-reloading external modules\n",
    "# see http://stackoverflow.com/questions/1907993/autoreload-of-modules-in-ipython\n",
    "%load_ext autoreload\n",
    "%autoreload 2\n",
    "\n",
    "def rel_error(x, y):\n",
    "  \"\"\" returns relative error \"\"\"\n",
    "  return np.max(np.abs(x - y) / (np.maximum(1e-8, np.abs(x) + np.abs(y))))"
   ]
  },
  {
   "cell_type": "code",
   "execution_count": 3,
   "metadata": {},
   "outputs": [
    {
     "name": "stdout",
     "output_type": "stream",
     "text": [
      "('X_train: ', (49000, 3, 32, 32))\n",
      "('y_train: ', (49000,))\n",
      "('X_val: ', (1000, 3, 32, 32))\n",
      "('y_val: ', (1000,))\n",
      "('X_test: ', (1000, 3, 32, 32))\n",
      "('y_test: ', (1000,))\n"
     ]
    }
   ],
   "source": [
    "# Load the (preprocessed) CIFAR10 data.\n",
    "\n",
    "data = get_CIFAR10_data()\n",
    "for k, v in list(data.items()):\n",
    "  print(('%s: ' % k, v.shape))"
   ]
  },
  {
   "cell_type": "markdown",
   "metadata": {},
   "source": [
    "# Affine layer: foward\n",
    "Open the file `cs231n/layers.py` and implement the `affine_forward` function.\n",
    "\n",
    "Once you are done you can test your implementaion by running the following:"
   ]
  },
  {
   "cell_type": "code",
   "execution_count": 3,
   "metadata": {},
   "outputs": [
    {
     "name": "stdout",
     "output_type": "stream",
     "text": [
      "Testing affine_forward function:\n",
      "difference:  9.769849468192957e-10\n"
     ]
    }
   ],
   "source": [
    "# Test the affine_forward function\n",
    "\n",
    "num_inputs = 2\n",
    "input_shape = (4, 5, 6)\n",
    "output_dim = 3\n",
    "\n",
    "input_size = num_inputs * np.prod(input_shape)\n",
    "weight_size = output_dim * np.prod(input_shape)\n",
    "\n",
    "x = np.linspace(-0.1, 0.5, num=input_size).reshape(num_inputs, *input_shape)\n",
    "w = np.linspace(-0.2, 0.3, num=weight_size).reshape(np.prod(input_shape), output_dim)\n",
    "b = np.linspace(-0.3, 0.1, num=output_dim)\n",
    "\n",
    "out, _ = affine_forward(x, w, b)\n",
    "correct_out = np.array([[ 1.49834967,  1.70660132,  1.91485297],\n",
    "                        [ 3.25553199,  3.5141327,   3.77273342]])\n",
    "\n",
    "# Compare your output with ours. The error should be around 1e-9.\n",
    "print('Testing affine_forward function:')\n",
    "print('difference: ', rel_error(out, correct_out))"
   ]
  },
  {
   "cell_type": "markdown",
   "metadata": {},
   "source": [
    "# Affine layer: backward\n",
    "Now implement the `affine_backward` function and test your implementation using numeric gradient checking."
   ]
  },
  {
   "cell_type": "code",
   "execution_count": 4,
   "metadata": {},
   "outputs": [
    {
     "name": "stdout",
     "output_type": "stream",
     "text": [
      "Testing affine_backward function:\n",
      "dx error:  5.399100368651805e-11\n",
      "dw error:  9.904211865398145e-11\n",
      "db error:  2.4122867568119087e-11\n"
     ]
    }
   ],
   "source": [
    "# Test the affine_backward function\n",
    "np.random.seed(231)\n",
    "x = np.random.randn(10, 2, 3)\n",
    "w = np.random.randn(6, 5)\n",
    "b = np.random.randn(5)\n",
    "dout = np.random.randn(10, 5)\n",
    "\n",
    "dx_num = eval_numerical_gradient_array(lambda x: affine_forward(x, w, b)[0], x, dout)\n",
    "dw_num = eval_numerical_gradient_array(lambda w: affine_forward(x, w, b)[0], w, dout)\n",
    "db_num = eval_numerical_gradient_array(lambda b: affine_forward(x, w, b)[0], b, dout)\n",
    "\n",
    "_, cache = affine_forward(x, w, b)\n",
    "dx, dw, db = affine_backward(dout, cache)\n",
    "\n",
    "# The error should be around 1e-10\n",
    "print('Testing affine_backward function:')\n",
    "print('dx error: ', rel_error(dx_num, dx))\n",
    "print('dw error: ', rel_error(dw_num, dw))\n",
    "print('db error: ', rel_error(db_num, db))"
   ]
  },
  {
   "cell_type": "markdown",
   "metadata": {},
   "source": [
    "# ReLU layer: forward\n",
    "Implement the forward pass for the ReLU activation function in the `relu_forward` function and test your implementation using the following:"
   ]
  },
  {
   "cell_type": "code",
   "execution_count": 5,
   "metadata": {},
   "outputs": [
    {
     "name": "stdout",
     "output_type": "stream",
     "text": [
      "Testing relu_forward function:\n",
      "difference:  4.999999798022158e-08\n"
     ]
    }
   ],
   "source": [
    "# Test the relu_forward function\n",
    "\n",
    "x = np.linspace(-0.5, 0.5, num=12).reshape(3, 4)\n",
    "\n",
    "out, _ = relu_forward(x)\n",
    "correct_out = np.array([[ 0.,          0.,          0.,          0.,        ],\n",
    "                        [ 0.,          0.,          0.04545455,  0.13636364,],\n",
    "                        [ 0.22727273,  0.31818182,  0.40909091,  0.5,       ]])\n",
    "\n",
    "# Compare your output with ours. The error should be around 5e-8\n",
    "print('Testing relu_forward function:')\n",
    "print('difference: ', rel_error(out, correct_out))"
   ]
  },
  {
   "cell_type": "markdown",
   "metadata": {},
   "source": [
    "# ReLU layer: backward\n",
    "Now implement the backward pass for the ReLU activation function in the `relu_backward` function and test your implementation using numeric gradient checking:"
   ]
  },
  {
   "cell_type": "code",
   "execution_count": 6,
   "metadata": {},
   "outputs": [
    {
     "name": "stdout",
     "output_type": "stream",
     "text": [
      "Testing relu_backward function:\n",
      "dx error:  3.2756349136310288e-12\n"
     ]
    }
   ],
   "source": [
    "np.random.seed(231)\n",
    "x = np.random.randn(10, 10)\n",
    "dout = np.random.randn(*x.shape)\n",
    "\n",
    "dx_num = eval_numerical_gradient_array(lambda x: relu_forward(x)[0], x, dout)\n",
    "\n",
    "_, cache = relu_forward(x)\n",
    "dx = relu_backward(dout, cache)\n",
    "\n",
    "# The error should be around 3e-12\n",
    "print('Testing relu_backward function:')\n",
    "print('dx error: ', rel_error(dx_num, dx))"
   ]
  },
  {
   "cell_type": "markdown",
   "metadata": {},
   "source": [
    "# \"Sandwich\" layers\n",
    "There are some common patterns of layers that are frequently used in neural nets. For example, affine layers are frequently followed by a ReLU nonlinearity. To make these common patterns easy, we define several convenience layers in the file `cs231n/layer_utils.py`.\n",
    "\n",
    "For now take a look at the `affine_relu_forward` and `affine_relu_backward` functions, and run the following to numerically gradient check the backward pass:"
   ]
  },
  {
   "cell_type": "code",
   "execution_count": 7,
   "metadata": {},
   "outputs": [
    {
     "name": "stdout",
     "output_type": "stream",
     "text": [
      "Testing affine_relu_forward:\n",
      "dx error:  2.299579177309368e-11\n",
      "dw error:  8.162011105764925e-11\n",
      "db error:  7.826724021458994e-12\n"
     ]
    }
   ],
   "source": [
    "from cs231n.layer_utils import affine_relu_forward, affine_relu_backward\n",
    "np.random.seed(231)\n",
    "x = np.random.randn(2, 3, 4)\n",
    "w = np.random.randn(12, 10)\n",
    "b = np.random.randn(10)\n",
    "dout = np.random.randn(2, 10)\n",
    "\n",
    "out, cache = affine_relu_forward(x, w, b)\n",
    "dx, dw, db = affine_relu_backward(dout, cache)\n",
    "\n",
    "dx_num = eval_numerical_gradient_array(lambda x: affine_relu_forward(x, w, b)[0], x, dout)\n",
    "dw_num = eval_numerical_gradient_array(lambda w: affine_relu_forward(x, w, b)[0], w, dout)\n",
    "db_num = eval_numerical_gradient_array(lambda b: affine_relu_forward(x, w, b)[0], b, dout)\n",
    "\n",
    "print('Testing affine_relu_forward:')\n",
    "print('dx error: ', rel_error(dx_num, dx))\n",
    "print('dw error: ', rel_error(dw_num, dw))\n",
    "print('db error: ', rel_error(db_num, db))"
   ]
  },
  {
   "cell_type": "markdown",
   "metadata": {},
   "source": [
    "# Loss layers: Softmax and SVM\n",
    "You implemented these loss functions in the last assignment, so we'll give them to you for free here. You should still make sure you understand how they work by looking at the implementations in `cs231n/layers.py`.\n",
    "\n",
    "You can make sure that the implementations are correct by running the following:"
   ]
  },
  {
   "cell_type": "code",
   "execution_count": 8,
   "metadata": {},
   "outputs": [
    {
     "name": "stdout",
     "output_type": "stream",
     "text": [
      "Testing svm_loss:\n",
      "loss:  8.999602749096233\n",
      "dx error:  1.4021566006651672e-09\n",
      "\n",
      "Testing softmax_loss:\n",
      "loss:  2.302545844500738\n",
      "dx error:  9.384673161989355e-09\n"
     ]
    }
   ],
   "source": [
    "np.random.seed(231)\n",
    "num_classes, num_inputs = 10, 50\n",
    "x = 0.001 * np.random.randn(num_inputs, num_classes)\n",
    "y = np.random.randint(num_classes, size=num_inputs)\n",
    "\n",
    "dx_num = eval_numerical_gradient(lambda x: svm_loss(x, y)[0], x, verbose=False)\n",
    "loss, dx = svm_loss(x, y)\n",
    "\n",
    "# Test svm_loss function. Loss should be around 9 and dx error should be 1e-9\n",
    "print('Testing svm_loss:')\n",
    "print('loss: ', loss)\n",
    "print('dx error: ', rel_error(dx_num, dx))\n",
    "\n",
    "dx_num = eval_numerical_gradient(lambda x: softmax_loss(x, y)[0], x, verbose=False)\n",
    "loss, dx = softmax_loss(x, y)\n",
    "\n",
    "# Test softmax_loss function. Loss should be 2.3 and dx error should be 1e-8\n",
    "print('\\nTesting softmax_loss:')\n",
    "print('loss: ', loss)\n",
    "print('dx error: ', rel_error(dx_num, dx))"
   ]
  },
  {
   "cell_type": "markdown",
   "metadata": {},
   "source": [
    "# Two-layer network\n",
    "In the previous assignment you implemented a two-layer neural network in a single monolithic class. Now that you have implemented modular versions of the necessary layers, you will reimplement the two layer network using these modular implementations.\n",
    "\n",
    "Open the file `cs231n/classifiers/fc_net.py` and complete the implementation of the `TwoLayerNet` class. This class will serve as a model for the other networks you will implement in this assignment, so read through it to make sure you understand the API. You can run the cell below to test your implementation."
   ]
  },
  {
   "cell_type": "code",
   "execution_count": 5,
   "metadata": {},
   "outputs": [
    {
     "name": "stdout",
     "output_type": "stream",
     "text": [
      "Testing initialization ... \n",
      "Testing test-time forward pass ... \n",
      "Testing training loss (no regularization)\n",
      "Running numeric gradient check with reg =  0.0\n",
      "W1 relative error: 1.83e-08\n",
      "W2 relative error: 3.12e-10\n",
      "b1 relative error: 9.83e-09\n",
      "b2 relative error: 4.33e-10\n",
      "Running numeric gradient check with reg =  0.7\n",
      "W1 relative error: 2.53e-07\n",
      "W2 relative error: 2.85e-08\n",
      "b1 relative error: 1.56e-08\n",
      "b2 relative error: 7.76e-10\n"
     ]
    }
   ],
   "source": [
    "np.random.seed(231)\n",
    "N, D, H, C = 3, 5, 50, 7\n",
    "X = np.random.randn(N, D)\n",
    "y = np.random.randint(C, size=N)\n",
    "\n",
    "std = 1e-3\n",
    "model = TwoLayerNet(input_dim=D, hidden_dim=H, num_classes=C, weight_scale=std)\n",
    "\n",
    "print('Testing initialization ... ')\n",
    "W1_std = abs(model.params['W1'].std() - std)\n",
    "b1 = model.params['b1']\n",
    "W2_std = abs(model.params['W2'].std() - std)\n",
    "b2 = model.params['b2']\n",
    "assert W1_std < std / 10, 'First layer weights do not seem right'\n",
    "assert np.all(b1 == 0), 'First layer biases do not seem right'\n",
    "assert W2_std < std / 10, 'Second layer weights do not seem right'\n",
    "assert np.all(b2 == 0), 'Second layer biases do not seem right'\n",
    "\n",
    "print('Testing test-time forward pass ... ')\n",
    "model.params['W1'] = np.linspace(-0.7, 0.3, num=D*H).reshape(D, H)\n",
    "model.params['b1'] = np.linspace(-0.1, 0.9, num=H)\n",
    "model.params['W2'] = np.linspace(-0.3, 0.4, num=H*C).reshape(H, C)\n",
    "model.params['b2'] = np.linspace(-0.9, 0.1, num=C)\n",
    "X = np.linspace(-5.5, 4.5, num=N*D).reshape(D, N).T\n",
    "scores = model.loss(X)\n",
    "correct_scores = np.asarray(\n",
    "  [[11.53165108,  12.2917344,   13.05181771,  13.81190102,  14.57198434, 15.33206765,  16.09215096],\n",
    "   [12.05769098,  12.74614105,  13.43459113,  14.1230412,   14.81149128, 15.49994135,  16.18839143],\n",
    "   [12.58373087,  13.20054771,  13.81736455,  14.43418138,  15.05099822, 15.66781506,  16.2846319 ]])\n",
    "scores_diff = np.abs(scores - correct_scores).sum()\n",
    "assert scores_diff < 1e-6, 'Problem with test-time forward pass'\n",
    "\n",
    "print('Testing training loss (no regularization)')\n",
    "y = np.asarray([0, 5, 1])\n",
    "loss, grads = model.loss(X, y)\n",
    "correct_loss = 3.4702243556\n",
    "assert abs(loss - correct_loss) < 1e-10, 'Problem with training-time loss'\n",
    "\n",
    "model.reg = 1.0\n",
    "loss, grads = model.loss(X, y)\n",
    "correct_loss = 26.5948426952\n",
    "assert abs(loss - correct_loss) < 1e-10, 'Problem with regularization loss'\n",
    "\n",
    "for reg in [0.0, 0.7]:\n",
    "  print('Running numeric gradient check with reg = ', reg)\n",
    "  model.reg = reg\n",
    "  loss, grads = model.loss(X, y)\n",
    "\n",
    "  for name in sorted(grads):\n",
    "    f = lambda _: model.loss(X, y)[0]\n",
    "    grad_num = eval_numerical_gradient(f, model.params[name], verbose=False)\n",
    "    print('%s relative error: %.2e' % (name, rel_error(grad_num, grads[name])))"
   ]
  },
  {
   "cell_type": "markdown",
   "metadata": {},
   "source": [
    "# Solver\n",
    "In the previous assignment, the logic for training models was coupled to the models themselves. Following a more modular design, for this assignment we have split the logic for training models into a separate class.\n",
    "\n",
    "Open the file `cs231n/solver.py` and read through it to familiarize yourself with the API. After doing so, use a `Solver` instance to train a `TwoLayerNet` that achieves at least `50%` accuracy on the validation set."
   ]
  },
  {
   "cell_type": "code",
   "execution_count": 10,
   "metadata": {},
   "outputs": [
    {
     "name": "stdout",
     "output_type": "stream",
     "text": [
      "(Iteration 1 / 2440) loss: 2.327591\n",
      "(Epoch 0 / 20) train acc: 0.095000; val_acc: 0.103000\n",
      "(Iteration 11 / 2440) loss: 2.280262\n",
      "(Iteration 21 / 2440) loss: 2.178922\n",
      "(Iteration 31 / 2440) loss: 2.099982\n",
      "(Iteration 41 / 2440) loss: 2.071169\n",
      "(Iteration 51 / 2440) loss: 1.961079\n",
      "(Iteration 61 / 2440) loss: 1.930006\n",
      "(Iteration 71 / 2440) loss: 1.905051\n",
      "(Iteration 81 / 2440) loss: 1.897397\n",
      "(Iteration 91 / 2440) loss: 1.858149\n",
      "(Iteration 101 / 2440) loss: 1.821444\n",
      "(Iteration 111 / 2440) loss: 1.792328\n",
      "(Iteration 121 / 2440) loss: 1.764787\n",
      "(Epoch 1 / 20) train acc: 0.392000; val_acc: 0.382000\n",
      "(Iteration 131 / 2440) loss: 1.786530\n",
      "(Iteration 141 / 2440) loss: 1.723120\n",
      "(Iteration 151 / 2440) loss: 1.765508\n",
      "(Iteration 161 / 2440) loss: 1.758939\n",
      "(Iteration 171 / 2440) loss: 1.742316\n",
      "(Iteration 181 / 2440) loss: 1.759737\n",
      "(Iteration 191 / 2440) loss: 1.638749\n",
      "(Iteration 201 / 2440) loss: 1.670808\n",
      "(Iteration 211 / 2440) loss: 1.692737\n",
      "(Iteration 221 / 2440) loss: 1.694615\n",
      "(Iteration 231 / 2440) loss: 1.669908\n",
      "(Iteration 241 / 2440) loss: 1.535589\n",
      "(Epoch 2 / 20) train acc: 0.414000; val_acc: 0.420000\n",
      "(Iteration 251 / 2440) loss: 1.605918\n",
      "(Iteration 261 / 2440) loss: 1.664588\n",
      "(Iteration 271 / 2440) loss: 1.603805\n",
      "(Iteration 281 / 2440) loss: 1.574749\n",
      "(Iteration 291 / 2440) loss: 1.674208\n",
      "(Iteration 301 / 2440) loss: 1.624519\n",
      "(Iteration 311 / 2440) loss: 1.610224\n",
      "(Iteration 321 / 2440) loss: 1.669647\n",
      "(Iteration 331 / 2440) loss: 1.606915\n",
      "(Iteration 341 / 2440) loss: 1.575950\n",
      "(Iteration 351 / 2440) loss: 1.578985\n",
      "(Iteration 361 / 2440) loss: 1.556088\n",
      "(Epoch 3 / 20) train acc: 0.458000; val_acc: 0.457000\n",
      "(Iteration 371 / 2440) loss: 1.605227\n",
      "(Iteration 381 / 2440) loss: 1.616314\n",
      "(Iteration 391 / 2440) loss: 1.594996\n",
      "(Iteration 401 / 2440) loss: 1.612836\n",
      "(Iteration 411 / 2440) loss: 1.583718\n",
      "(Iteration 421 / 2440) loss: 1.592450\n",
      "(Iteration 431 / 2440) loss: 1.639181\n",
      "(Iteration 441 / 2440) loss: 1.585159\n",
      "(Iteration 451 / 2440) loss: 1.513338\n",
      "(Iteration 461 / 2440) loss: 1.503354\n",
      "(Iteration 471 / 2440) loss: 1.637527\n",
      "(Iteration 481 / 2440) loss: 1.621781\n",
      "(Epoch 4 / 20) train acc: 0.463000; val_acc: 0.453000\n",
      "(Iteration 491 / 2440) loss: 1.494254\n",
      "(Iteration 501 / 2440) loss: 1.559119\n",
      "(Iteration 511 / 2440) loss: 1.640908\n",
      "(Iteration 521 / 2440) loss: 1.516946\n",
      "(Iteration 531 / 2440) loss: 1.479050\n",
      "(Iteration 541 / 2440) loss: 1.525961\n",
      "(Iteration 551 / 2440) loss: 1.478590\n",
      "(Iteration 561 / 2440) loss: 1.546786\n",
      "(Iteration 571 / 2440) loss: 1.422058\n",
      "(Iteration 581 / 2440) loss: 1.542680\n",
      "(Iteration 591 / 2440) loss: 1.556565\n",
      "(Iteration 601 / 2440) loss: 1.540079\n",
      "(Epoch 5 / 20) train acc: 0.475000; val_acc: 0.467000\n",
      "(Iteration 611 / 2440) loss: 1.515395\n",
      "(Iteration 621 / 2440) loss: 1.554952\n",
      "(Iteration 631 / 2440) loss: 1.498291\n",
      "(Iteration 641 / 2440) loss: 1.586191\n",
      "(Iteration 651 / 2440) loss: 1.455826\n",
      "(Iteration 661 / 2440) loss: 1.620389\n",
      "(Iteration 671 / 2440) loss: 1.511434\n",
      "(Iteration 681 / 2440) loss: 1.483541\n",
      "(Iteration 691 / 2440) loss: 1.475090\n",
      "(Iteration 701 / 2440) loss: 1.610394\n",
      "(Iteration 711 / 2440) loss: 1.430214\n",
      "(Iteration 721 / 2440) loss: 1.428992\n",
      "(Iteration 731 / 2440) loss: 1.457727\n",
      "(Epoch 6 / 20) train acc: 0.503000; val_acc: 0.470000\n",
      "(Iteration 741 / 2440) loss: 1.412472\n",
      "(Iteration 751 / 2440) loss: 1.430458\n",
      "(Iteration 761 / 2440) loss: 1.523664\n",
      "(Iteration 771 / 2440) loss: 1.482419\n",
      "(Iteration 781 / 2440) loss: 1.439486\n",
      "(Iteration 791 / 2440) loss: 1.455292\n",
      "(Iteration 801 / 2440) loss: 1.434676\n",
      "(Iteration 811 / 2440) loss: 1.480352\n",
      "(Iteration 821 / 2440) loss: 1.438730\n",
      "(Iteration 831 / 2440) loss: 1.447053\n",
      "(Iteration 841 / 2440) loss: 1.468780\n",
      "(Iteration 851 / 2440) loss: 1.467802\n",
      "(Epoch 7 / 20) train acc: 0.517000; val_acc: 0.481000\n",
      "(Iteration 861 / 2440) loss: 1.496164\n",
      "(Iteration 871 / 2440) loss: 1.420804\n",
      "(Iteration 881 / 2440) loss: 1.470925\n",
      "(Iteration 891 / 2440) loss: 1.451106\n",
      "(Iteration 901 / 2440) loss: 1.499420\n",
      "(Iteration 911 / 2440) loss: 1.512611\n",
      "(Iteration 921 / 2440) loss: 1.457937\n",
      "(Iteration 931 / 2440) loss: 1.385384\n",
      "(Iteration 941 / 2440) loss: 1.503523\n",
      "(Iteration 951 / 2440) loss: 1.474481\n",
      "(Iteration 961 / 2440) loss: 1.420391\n",
      "(Iteration 971 / 2440) loss: 1.372587\n",
      "(Epoch 8 / 20) train acc: 0.511000; val_acc: 0.486000\n",
      "(Iteration 981 / 2440) loss: 1.548238\n",
      "(Iteration 991 / 2440) loss: 1.443632\n",
      "(Iteration 1001 / 2440) loss: 1.440452\n",
      "(Iteration 1011 / 2440) loss: 1.352247\n",
      "(Iteration 1021 / 2440) loss: 1.369271\n",
      "(Iteration 1031 / 2440) loss: 1.505155\n",
      "(Iteration 1041 / 2440) loss: 1.397950\n",
      "(Iteration 1051 / 2440) loss: 1.441004\n",
      "(Iteration 1061 / 2440) loss: 1.425087\n",
      "(Iteration 1071 / 2440) loss: 1.329710\n",
      "(Iteration 1081 / 2440) loss: 1.364086\n",
      "(Iteration 1091 / 2440) loss: 1.447073\n",
      "(Epoch 9 / 20) train acc: 0.508000; val_acc: 0.502000\n",
      "(Iteration 1101 / 2440) loss: 1.469288\n",
      "(Iteration 1111 / 2440) loss: 1.388712\n",
      "(Iteration 1121 / 2440) loss: 1.385522\n",
      "(Iteration 1131 / 2440) loss: 1.355074\n",
      "(Iteration 1141 / 2440) loss: 1.385635\n",
      "(Iteration 1151 / 2440) loss: 1.447869\n",
      "(Iteration 1161 / 2440) loss: 1.412944\n",
      "(Iteration 1171 / 2440) loss: 1.407788\n",
      "(Iteration 1181 / 2440) loss: 1.417262\n",
      "(Iteration 1191 / 2440) loss: 1.397656\n",
      "(Iteration 1201 / 2440) loss: 1.437255\n",
      "(Iteration 1211 / 2440) loss: 1.517033\n",
      "(Epoch 10 / 20) train acc: 0.521000; val_acc: 0.499000\n",
      "(Iteration 1221 / 2440) loss: 1.293051\n",
      "(Iteration 1231 / 2440) loss: 1.349725\n",
      "(Iteration 1241 / 2440) loss: 1.372606\n",
      "(Iteration 1251 / 2440) loss: 1.409790\n",
      "(Iteration 1261 / 2440) loss: 1.387449\n",
      "(Iteration 1271 / 2440) loss: 1.432149\n",
      "(Iteration 1281 / 2440) loss: 1.400237\n",
      "(Iteration 1291 / 2440) loss: 1.400044\n",
      "(Iteration 1301 / 2440) loss: 1.413126\n",
      "(Iteration 1311 / 2440) loss: 1.487510\n",
      "(Iteration 1321 / 2440) loss: 1.364422\n",
      "(Iteration 1331 / 2440) loss: 1.438747\n",
      "(Iteration 1341 / 2440) loss: 1.395498\n",
      "(Epoch 11 / 20) train acc: 0.527000; val_acc: 0.505000\n",
      "(Iteration 1351 / 2440) loss: 1.390990\n",
      "(Iteration 1361 / 2440) loss: 1.402017\n",
      "(Iteration 1371 / 2440) loss: 1.356519\n",
      "(Iteration 1381 / 2440) loss: 1.357832\n",
      "(Iteration 1391 / 2440) loss: 1.414969\n",
      "(Iteration 1401 / 2440) loss: 1.399153\n",
      "(Iteration 1411 / 2440) loss: 1.419091\n",
      "(Iteration 1421 / 2440) loss: 1.382299\n",
      "(Iteration 1431 / 2440) loss: 1.398870\n",
      "(Iteration 1441 / 2440) loss: 1.386428\n",
      "(Iteration 1451 / 2440) loss: 1.361828\n",
      "(Iteration 1461 / 2440) loss: 1.333457\n",
      "(Epoch 12 / 20) train acc: 0.518000; val_acc: 0.513000\n",
      "(Iteration 1471 / 2440) loss: 1.358178\n",
      "(Iteration 1481 / 2440) loss: 1.365017\n",
      "(Iteration 1491 / 2440) loss: 1.355733\n",
      "(Iteration 1501 / 2440) loss: 1.464206\n",
      "(Iteration 1511 / 2440) loss: 1.384610\n",
      "(Iteration 1521 / 2440) loss: 1.415412\n",
      "(Iteration 1531 / 2440) loss: 1.367695\n",
      "(Iteration 1541 / 2440) loss: 1.362865\n",
      "(Iteration 1551 / 2440) loss: 1.383425\n",
      "(Iteration 1561 / 2440) loss: 1.414238\n",
      "(Iteration 1571 / 2440) loss: 1.404598\n",
      "(Iteration 1581 / 2440) loss: 1.402654\n",
      "(Epoch 13 / 20) train acc: 0.552000; val_acc: 0.516000\n",
      "(Iteration 1591 / 2440) loss: 1.456015\n",
      "(Iteration 1601 / 2440) loss: 1.398561\n",
      "(Iteration 1611 / 2440) loss: 1.441751\n",
      "(Iteration 1621 / 2440) loss: 1.377337\n",
      "(Iteration 1631 / 2440) loss: 1.383174\n",
      "(Iteration 1641 / 2440) loss: 1.426030\n",
      "(Iteration 1651 / 2440) loss: 1.353326\n",
      "(Iteration 1661 / 2440) loss: 1.385787\n",
      "(Iteration 1671 / 2440) loss: 1.312499\n",
      "(Iteration 1681 / 2440) loss: 1.331873\n",
      "(Iteration 1691 / 2440) loss: 1.304353\n",
      "(Iteration 1701 / 2440) loss: 1.375996\n",
      "(Epoch 14 / 20) train acc: 0.560000; val_acc: 0.514000\n",
      "(Iteration 1711 / 2440) loss: 1.384111\n",
      "(Iteration 1721 / 2440) loss: 1.421508\n",
      "(Iteration 1731 / 2440) loss: 1.442176\n",
      "(Iteration 1741 / 2440) loss: 1.502022\n",
      "(Iteration 1751 / 2440) loss: 1.378924\n",
      "(Iteration 1761 / 2440) loss: 1.420515\n",
      "(Iteration 1771 / 2440) loss: 1.348006\n",
      "(Iteration 1781 / 2440) loss: 1.383926\n",
      "(Iteration 1791 / 2440) loss: 1.343136\n",
      "(Iteration 1801 / 2440) loss: 1.428029\n",
      "(Iteration 1811 / 2440) loss: 1.289971\n",
      "(Iteration 1821 / 2440) loss: 1.470321\n",
      "(Epoch 15 / 20) train acc: 0.548000; val_acc: 0.499000\n",
      "(Iteration 1831 / 2440) loss: 1.421756\n",
      "(Iteration 1841 / 2440) loss: 1.394907\n",
      "(Iteration 1851 / 2440) loss: 1.317796\n",
      "(Iteration 1861 / 2440) loss: 1.397208\n",
      "(Iteration 1871 / 2440) loss: 1.469284\n",
      "(Iteration 1881 / 2440) loss: 1.362532\n",
      "(Iteration 1891 / 2440) loss: 1.328602\n",
      "(Iteration 1901 / 2440) loss: 1.400794\n",
      "(Iteration 1911 / 2440) loss: 1.306780\n"
     ]
    },
    {
     "name": "stdout",
     "output_type": "stream",
     "text": [
      "(Iteration 1921 / 2440) loss: 1.228700\n",
      "(Iteration 1931 / 2440) loss: 1.313836\n",
      "(Iteration 1941 / 2440) loss: 1.387714\n",
      "(Iteration 1951 / 2440) loss: 1.430198\n",
      "(Epoch 16 / 20) train acc: 0.560000; val_acc: 0.501000\n",
      "(Iteration 1961 / 2440) loss: 1.402015\n",
      "(Iteration 1971 / 2440) loss: 1.361734\n",
      "(Iteration 1981 / 2440) loss: 1.339031\n",
      "(Iteration 1991 / 2440) loss: 1.299290\n",
      "(Iteration 2001 / 2440) loss: 1.321760\n",
      "(Iteration 2011 / 2440) loss: 1.326511\n",
      "(Iteration 2021 / 2440) loss: 1.359419\n",
      "(Iteration 2031 / 2440) loss: 1.336804\n",
      "(Iteration 2041 / 2440) loss: 1.282427\n",
      "(Iteration 2051 / 2440) loss: 1.292860\n",
      "(Iteration 2061 / 2440) loss: 1.351575\n",
      "(Iteration 2071 / 2440) loss: 1.201191\n",
      "(Epoch 17 / 20) train acc: 0.562000; val_acc: 0.522000\n",
      "(Iteration 2081 / 2440) loss: 1.331555\n",
      "(Iteration 2091 / 2440) loss: 1.367448\n",
      "(Iteration 2101 / 2440) loss: 1.399706\n",
      "(Iteration 2111 / 2440) loss: 1.302224\n",
      "(Iteration 2121 / 2440) loss: 1.359052\n",
      "(Iteration 2131 / 2440) loss: 1.267801\n",
      "(Iteration 2141 / 2440) loss: 1.261196\n",
      "(Iteration 2151 / 2440) loss: 1.279871\n",
      "(Iteration 2161 / 2440) loss: 1.312176\n",
      "(Iteration 2171 / 2440) loss: 1.279453\n",
      "(Iteration 2181 / 2440) loss: 1.371995\n",
      "(Iteration 2191 / 2440) loss: 1.357243\n",
      "(Epoch 18 / 20) train acc: 0.540000; val_acc: 0.511000\n",
      "(Iteration 2201 / 2440) loss: 1.349903\n",
      "(Iteration 2211 / 2440) loss: 1.211520\n",
      "(Iteration 2221 / 2440) loss: 1.293657\n",
      "(Iteration 2231 / 2440) loss: 1.316378\n",
      "(Iteration 2241 / 2440) loss: 1.356318\n",
      "(Iteration 2251 / 2440) loss: 1.291607\n",
      "(Iteration 2261 / 2440) loss: 1.375927\n",
      "(Iteration 2271 / 2440) loss: 1.327641\n",
      "(Iteration 2281 / 2440) loss: 1.354544\n",
      "(Iteration 2291 / 2440) loss: 1.363579\n",
      "(Iteration 2301 / 2440) loss: 1.335787\n",
      "(Iteration 2311 / 2440) loss: 1.368188\n",
      "(Epoch 19 / 20) train acc: 0.585000; val_acc: 0.524000\n",
      "(Iteration 2321 / 2440) loss: 1.382006\n",
      "(Iteration 2331 / 2440) loss: 1.339016\n",
      "(Iteration 2341 / 2440) loss: 1.378492\n",
      "(Iteration 2351 / 2440) loss: 1.402620\n",
      "(Iteration 2361 / 2440) loss: 1.345502\n",
      "(Iteration 2371 / 2440) loss: 1.285708\n",
      "(Iteration 2381 / 2440) loss: 1.307923\n",
      "(Iteration 2391 / 2440) loss: 1.332458\n",
      "(Iteration 2401 / 2440) loss: 1.396515\n",
      "(Iteration 2411 / 2440) loss: 1.373844\n",
      "(Iteration 2421 / 2440) loss: 1.333288\n",
      "(Iteration 2431 / 2440) loss: 1.294906\n",
      "(Epoch 20 / 20) train acc: 0.564000; val_acc: 0.520000\n"
     ]
    }
   ],
   "source": [
    "model = TwoLayerNet()\n",
    "\n",
    "# Hyperparameters:  {'hidden_size': 60, 'learning_rate': 0.001, 'num_iters': 2000, 'batch_size': 400, 'reg': 0.25, 'val_acc': 0.511}\n",
    "\n",
    "solver = None\n",
    "##############################################################################\n",
    "# TODO: Use a Solver instance to train a TwoLayerNet that achieves at least  #\n",
    "# 50% accuracy on the validation set.                                        #\n",
    "##############################################################################\n",
    "model = TwoLayerNet(input_dim=3*32*32, hidden_dim=60, num_classes=10, weight_scale=1e-3, reg=0.25)\n",
    "solver = Solver(model, data, optim_config={'learning_rate':0.001}, lr_decay=0.95, batch_size=400, num_epochs=20)\n",
    "solver.train()\n",
    "\n",
    "##############################################################################\n",
    "#                             END OF YOUR CODE                               #\n",
    "##############################################################################"
   ]
  },
  {
   "cell_type": "code",
   "execution_count": 11,
   "metadata": {},
   "outputs": [
    {
     "data": {
      "image/png": "[encoded data removed]",
      "text/plain": [
       "<Figure size 1080x864 with 2 Axes>"
      ]
     },
     "metadata": {
      "needs_background": "light"
     },
     "output_type": "display_data"
    }
   ],
   "source": [
    "# Run this cell to visualize training loss and train / val accuracy\n",
    "\n",
    "plt.subplot(2, 1, 1)\n",
    "plt.title('Training loss')\n",
    "plt.plot(solver.loss_history, 'o')\n",
    "plt.xlabel('Iteration')\n",
    "\n",
    "plt.subplot(2, 1, 2)\n",
    "plt.title('Accuracy')\n",
    "plt.plot(solver.train_acc_history, '-o', label='train')\n",
    "plt.plot(solver.val_acc_history, '-o', label='val')\n",
    "plt.plot([0.5] * len(solver.val_acc_history), 'k--')\n",
    "plt.xlabel('Epoch')\n",
    "plt.legend(loc='lower right')\n",
    "plt.gcf().set_size_inches(15, 12)\n",
    "plt.show()"
   ]
  },
  {
   "cell_type": "markdown",
   "metadata": {},
   "source": [
    "# Multilayer network\n",
    "Next you will implement a fully-connected network with an arbitrary number of hidden layers.\n",
    "\n",
    "Read through the `FullyConnectedNet` class in the file `cs231n/classifiers/fc_net.py`.\n",
    "\n",
    "Implement the initialization, the forward pass, and the backward pass. For the moment don't worry about implementing dropout or batch normalization; we will add those features soon."
   ]
  },
  {
   "cell_type": "markdown",
   "metadata": {},
   "source": [
    "## Initial loss and gradient check"
   ]
  },
  {
   "cell_type": "markdown",
   "metadata": {},
   "source": [
    "As a sanity check, run the following to check the initial loss and to gradient check the network both with and without regularization. Do the initial losses seem reasonable?\n",
    "\n",
    "For gradient checking, you should expect to see errors around 1e-6 or less."
   ]
  },
  {
   "cell_type": "code",
   "execution_count": 14,
   "metadata": {},
   "outputs": [
    {
     "name": "stdout",
     "output_type": "stream",
     "text": [
      "Running check with reg =  0\n",
      "Running check with reg =  3.14\n"
     ]
    }
   ],
   "source": [
    "np.random.seed(231)\n",
    "N, D, H1, H2, C = 2, 15, 20, 30, 10\n",
    "X = np.random.randn(N, D)\n",
    "y = np.random.randint(C, size=(N,))\n",
    "\n",
    "for reg in [0, 3.14]:\n",
    "  print('Running check with reg = ', reg)\n",
    "  model = FullyConnectedNet([H1, H2], input_dim=D, num_classes=C,\n",
    "                            reg=reg, weight_scale=5e-2, dtype=np.float64)"
   ]
  },
  {
   "cell_type": "code",
   "execution_count": 15,
   "metadata": {},
   "outputs": [
    {
     "name": "stdout",
     "output_type": "stream",
     "text": [
      "Running check with reg =  0\n",
      "Initial loss:  2.3004790897684924\n",
      "W1 relative error: 1.48e-07\n",
      "W2 relative error: 2.21e-05\n",
      "W3 relative error: 3.53e-07\n",
      "b1 relative error: 5.38e-09\n",
      "b2 relative error: 2.09e-09\n",
      "b3 relative error: 5.80e-11\n",
      "Running check with reg =  3.14\n",
      "Initial loss:  7.052114776533016\n",
      "W1 relative error: 7.36e-09\n",
      "W2 relative error: 6.87e-08\n",
      "W3 relative error: 3.48e-08\n",
      "b1 relative error: 1.48e-08\n",
      "b2 relative error: 1.72e-09\n",
      "b3 relative error: 1.80e-10\n"
     ]
    }
   ],
   "source": [
    "np.random.seed(231)\n",
    "N, D, H1, H2, C = 2, 15, 20, 30, 10\n",
    "X = np.random.randn(N, D)\n",
    "y = np.random.randint(C, size=(N,))\n",
    "\n",
    "for reg in [0, 3.14]:\n",
    "  print('Running check with reg = ', reg)\n",
    "  model = FullyConnectedNet([H1, H2], input_dim=D, num_classes=C,\n",
    "                            reg=reg, weight_scale=5e-2, dtype=np.float64)\n",
    "\n",
    "  loss, grads = model.loss(X, y)\n",
    "  print('Initial loss: ', loss)\n",
    "\n",
    "  for name in sorted(grads):\n",
    "    f = lambda _: model.loss(X, y)[0]\n",
    "    grad_num = eval_numerical_gradient(f, model.params[name], verbose=False, h=1e-5)\n",
    "    print('%s relative error: %.2e' % (name, rel_error(grad_num, grads[name])))"
   ]
  },
  {
   "cell_type": "markdown",
   "metadata": {},
   "source": [
    "As another sanity check, make sure you can overfit a small dataset of 50 images. First we will try a three-layer network with 100 units in each hidden layer. You will need to tweak the learning rate and initialization scale, but you should be able to overfit and achieve 100% training accuracy within 20 epochs."
   ]
  },
  {
   "cell_type": "code",
   "execution_count": 24,
   "metadata": {
    "scrolled": false
   },
   "outputs": [
    {
     "name": "stdout",
     "output_type": "stream",
     "text": [
      "(Iteration 1 / 40) loss: 2.334012\n",
      "(Epoch 0 / 20) train acc: 0.280000; val_acc: 0.149000\n",
      "(Epoch 1 / 20) train acc: 0.280000; val_acc: 0.151000\n",
      "(Epoch 2 / 20) train acc: 0.340000; val_acc: 0.154000\n",
      "(Epoch 3 / 20) train acc: 0.420000; val_acc: 0.189000\n",
      "(Epoch 4 / 20) train acc: 0.520000; val_acc: 0.180000\n",
      "(Epoch 5 / 20) train acc: 0.660000; val_acc: 0.187000\n",
      "(Iteration 11 / 40) loss: 1.150480\n",
      "(Epoch 6 / 20) train acc: 0.780000; val_acc: 0.198000\n",
      "(Epoch 7 / 20) train acc: 0.740000; val_acc: 0.189000\n",
      "(Epoch 8 / 20) train acc: 0.720000; val_acc: 0.160000\n",
      "(Epoch 9 / 20) train acc: 0.920000; val_acc: 0.198000\n",
      "(Epoch 10 / 20) train acc: 0.880000; val_acc: 0.166000\n",
      "(Iteration 21 / 40) loss: 0.388775\n",
      "(Epoch 11 / 20) train acc: 0.980000; val_acc: 0.183000\n",
      "(Epoch 12 / 20) train acc: 1.000000; val_acc: 0.207000\n",
      "(Epoch 13 / 20) train acc: 1.000000; val_acc: 0.183000\n",
      "(Epoch 14 / 20) train acc: 0.960000; val_acc: 0.208000\n",
      "(Epoch 15 / 20) train acc: 1.000000; val_acc: 0.187000\n",
      "(Iteration 31 / 40) loss: 0.045958\n",
      "(Epoch 16 / 20) train acc: 1.000000; val_acc: 0.191000\n",
      "(Epoch 17 / 20) train acc: 1.000000; val_acc: 0.191000\n",
      "(Epoch 18 / 20) train acc: 1.000000; val_acc: 0.192000\n",
      "(Epoch 19 / 20) train acc: 1.000000; val_acc: 0.188000\n",
      "(Epoch 20 / 20) train acc: 1.000000; val_acc: 0.191000\n"
     ]
    },
    {
     "data": {
      "image/png": "[encoded data removed]",
      "text/plain": [
       "<Figure size 432x288 with 1 Axes>"
      ]
     },
     "metadata": {
      "needs_background": "light"
     },
     "output_type": "display_data"
    }
   ],
   "source": [
    "# TODO: Use a three-layer Net to overfit 50 training examples.\n",
    "\n",
    "num_train = 50\n",
    "small_data = {\n",
    "  'X_train': data['X_train'][:num_train],\n",
    "  'y_train': data['y_train'][:num_train],\n",
    "  'X_val': data['X_val'],\n",
    "  'y_val': data['y_val'],\n",
    "}\n",
    "\n",
    "weight_scale = 1e-2\n",
    "learning_rate = 1e-2\n",
    "model = FullyConnectedNet([100, 100],\n",
    "              weight_scale=weight_scale, dtype=np.float64)\n",
    "solver = Solver(model, small_data,\n",
    "                print_every=10, num_epochs=20, batch_size=25,\n",
    "                update_rule='sgd',\n",
    "                optim_config={\n",
    "                  'learning_rate': learning_rate,\n",
    "                }\n",
    "         )\n",
    "solver.train()\n",
    "\n",
    "plt.plot(solver.loss_history, 'o')\n",
    "plt.title('Training loss history')\n",
    "plt.xlabel('Iteration')\n",
    "plt.ylabel('Training loss')\n",
    "plt.show()"
   ]
  },
  {
   "cell_type": "markdown",
   "metadata": {},
   "source": [
    "Now try to use a five-layer network with 100 units on each layer to overfit 50 training examples. Again you will have to adjust the learning rate and weight initialization, but you should be able to achieve 100% training accuracy within 20 epochs."
   ]
  },
  {
   "cell_type": "code",
   "execution_count": 40,
   "metadata": {},
   "outputs": [
    {
     "name": "stdout",
     "output_type": "stream",
     "text": [
      "(Iteration 1 / 40) loss: 114.708614\n",
      "(Epoch 0 / 20) train acc: 0.140000; val_acc: 0.126000\n",
      "(Epoch 1 / 20) train acc: 0.180000; val_acc: 0.125000\n",
      "(Epoch 2 / 20) train acc: 0.300000; val_acc: 0.116000\n",
      "(Epoch 3 / 20) train acc: 0.520000; val_acc: 0.123000\n",
      "(Epoch 4 / 20) train acc: 0.720000; val_acc: 0.138000\n",
      "(Epoch 5 / 20) train acc: 0.860000; val_acc: 0.124000\n",
      "(Iteration 11 / 40) loss: 0.366213\n",
      "(Epoch 6 / 20) train acc: 0.900000; val_acc: 0.130000\n",
      "(Epoch 7 / 20) train acc: 0.960000; val_acc: 0.133000\n",
      "(Epoch 8 / 20) train acc: 0.980000; val_acc: 0.137000\n",
      "(Epoch 9 / 20) train acc: 0.980000; val_acc: 0.135000\n",
      "(Epoch 10 / 20) train acc: 1.000000; val_acc: 0.140000\n",
      "(Iteration 21 / 40) loss: 0.004319\n",
      "(Epoch 11 / 20) train acc: 1.000000; val_acc: 0.138000\n",
      "(Epoch 12 / 20) train acc: 1.000000; val_acc: 0.138000\n",
      "(Epoch 13 / 20) train acc: 1.000000; val_acc: 0.138000\n",
      "(Epoch 14 / 20) train acc: 1.000000; val_acc: 0.138000\n",
      "(Epoch 15 / 20) train acc: 1.000000; val_acc: 0.138000\n",
      "(Iteration 31 / 40) loss: 0.001192\n",
      "(Epoch 16 / 20) train acc: 1.000000; val_acc: 0.139000\n",
      "(Epoch 17 / 20) train acc: 1.000000; val_acc: 0.139000\n",
      "(Epoch 18 / 20) train acc: 1.000000; val_acc: 0.139000\n",
      "(Epoch 19 / 20) train acc: 1.000000; val_acc: 0.139000\n",
      "(Epoch 20 / 20) train acc: 1.000000; val_acc: 0.139000\n",
      "learning_rate: 0.001 weight_scale: 0.1 final loss: 0.0008310148820739259\n"
     ]
    },
    {
     "data": {
      "image/png": "[encoded data removed]",
      "text/plain": [
       "<Figure size 432x288 with 1 Axes>"
      ]
     },
     "metadata": {
      "needs_background": "light"
     },
     "output_type": "display_data"
    }
   ],
   "source": [
    "# TODO: Use a five-layer Net to overfit 50 training examples.\n",
    "\n",
    "num_train = 50\n",
    "small_data = {\n",
    "  'X_train': data['X_train'][:num_train],\n",
    "  'y_train': data['y_train'][:num_train],\n",
    "  'X_val': data['X_val'],\n",
    "  'y_val': data['y_val'],\n",
    "}\n",
    "\n",
    "learning_rates = [1e-3]\n",
    "weight_scales = [1e-1]\n",
    "\n",
    "#learning_rate: 0.001 weight_scale: 0.1 final loss: 0.0010929282589920903\n",
    "\n",
    "\n",
    "for learning_rate in learning_rates:\n",
    "    for weight_scale in weight_scales:\n",
    "        model = FullyConnectedNet([100, 100, 100, 100],\n",
    "                        weight_scale=weight_scale, dtype=np.float64)\n",
    "        solver = Solver(model, small_data,\n",
    "                        print_every=10, num_epochs=20, batch_size=25,\n",
    "                        update_rule='sgd',\n",
    "                        optim_config={\n",
    "                          'learning_rate': learning_rate,\n",
    "                        }\n",
    "                 )\n",
    "        solver.train()\n",
    "\n",
    "        print('learning_rate:', learning_rate, 'weight_scale:', weight_scale, 'final loss:', solver.loss_history[-1])\n",
    "\n",
    "\n",
    "plt.plot(solver.loss_history, 'o')\n",
    "plt.title('Training loss history')\n",
    "plt.xlabel('Iteration')\n",
    "plt.ylabel('Training loss')\n",
    "plt.show()"
   ]
  },
  {
   "cell_type": "markdown",
   "metadata": {},
   "source": [
    "# Inline question: \n",
    "Did you notice anything about the comparative difficulty of training the three-layer net vs training the five layer net?\n",
    "\n",
    "# Answer:\n",
    "[FILL THIS IN]\n"
   ]
  },
  {
   "cell_type": "markdown",
   "metadata": {},
   "source": [
    "# Update rules\n",
    "So far we have used vanilla stochastic gradient descent (SGD) as our update rule. More sophisticated update rules can make it easier to train deep networks. We will implement a few of the most commonly used update rules and compare them to vanilla SGD."
   ]
  },
  {
   "cell_type": "markdown",
   "metadata": {},
   "source": [
    "# SGD+Momentum\n",
    "Stochastic gradient descent with momentum is a widely used update rule that tends to make deep networks converge faster than vanilla stochstic gradient descent.\n",
    "\n",
    "Open the file `cs231n/optim.py` and read the documentation at the top of the file to make sure you understand the API. Implement the SGD+momentum update rule in the function `sgd_momentum` and run the following to check your implementation. You should see errors less than 1e-8."
   ]
  },
  {
   "cell_type": "code",
   "execution_count": 65,
   "metadata": {},
   "outputs": [
    {
     "name": "stdout",
     "output_type": "stream",
     "text": [
      "w [[-0.4]]\n",
      "dw [[-0.6]]\n",
      "v [[0.6]]\n",
      "v * momentum [[0.54]]\n",
      "next_w [[0.1406]]\n",
      "next_w error:  1.974080769248144e-16\n",
      "velocity error:  1.0268433450103188e-16\n"
     ]
    }
   ],
   "source": [
    "from cs231n.optim import sgd_momentum\n",
    "\n",
    "N, D = 1, 1\n",
    "w = np.array([[-0.4]]).reshape(N,D)\n",
    "dw = np.array([[-0.6]]).reshape(N, D)\n",
    "v = np.array([[0.6]]).reshape(N, D)\n",
    "\n",
    "config = {'learning_rate': 1e-3, 'velocity': v}\n",
    "next_w, _ = sgd_momentum(w, dw, config=config)\n",
    "\n",
    "expected_next_w = np.asarray([[ 0.1406]])\n",
    "expected_velocity = np.asarray([[ 0.5406]])\n",
    "\n",
    "print('next_w error: ', rel_error(next_w, expected_next_w))\n",
    "print('velocity error: ', rel_error(expected_velocity, config['velocity']))"
   ]
  },
  {
   "cell_type": "code",
   "execution_count": 66,
   "metadata": {},
   "outputs": [
    {
     "name": "stdout",
     "output_type": "stream",
     "text": [
      "next_w error:  8.882347033505819e-09\n",
      "velocity error:  4.269287743278663e-09\n"
     ]
    }
   ],
   "source": [
    "from cs231n.optim import sgd_momentum\n",
    "\n",
    "N, D = 4, 5\n",
    "w = np.linspace(-0.4, 0.6, num=N*D).reshape(N, D)\n",
    "dw = np.linspace(-0.6, 0.4, num=N*D).reshape(N, D)\n",
    "v = np.linspace(0.6, 0.9, num=N*D).reshape(N, D)\n",
    "\n",
    "config = {'learning_rate': 1e-3, 'velocity': v}\n",
    "next_w, _ = sgd_momentum(w, dw, config=config)\n",
    "\n",
    "expected_next_w = np.asarray([\n",
    "  [ 0.1406,      0.20738947,  0.27417895,  0.34096842,  0.40775789],\n",
    "  [ 0.47454737,  0.54133684,  0.60812632,  0.67491579,  0.74170526],\n",
    "  [ 0.80849474,  0.87528421,  0.94207368,  1.00886316,  1.07565263],\n",
    "  [ 1.14244211,  1.20923158,  1.27602105,  1.34281053,  1.4096    ]])\n",
    "expected_velocity = np.asarray([\n",
    "  [ 0.5406,      0.55475789,  0.56891579, 0.58307368,  0.59723158],\n",
    "  [ 0.61138947,  0.62554737,  0.63970526,  0.65386316,  0.66802105],\n",
    "  [ 0.68217895,  0.69633684,  0.71049474,  0.72465263,  0.73881053],\n",
    "  [ 0.75296842,  0.76712632,  0.78128421,  0.79544211,  0.8096    ]])\n",
    "\n",
    "print('next_w error: ', rel_error(next_w, expected_next_w))\n",
    "print('velocity error: ', rel_error(expected_velocity, config['velocity']))"
   ]
  },
  {
   "cell_type": "markdown",
   "metadata": {},
   "source": [
    "Once you have done so, run the following to train a six-layer network with both SGD and SGD+momentum. You should see the SGD+momentum update rule converge faster."
   ]
  },
  {
   "cell_type": "code",
   "execution_count": 67,
   "metadata": {
    "scrolled": false
   },
   "outputs": [
    {
     "name": "stdout",
     "output_type": "stream",
     "text": [
      "running with  sgd\n",
      "(Iteration 1 / 200) loss: 2.738514\n",
      "(Epoch 0 / 5) train acc: 0.132000; val_acc: 0.098000\n",
      "(Iteration 11 / 200) loss: 2.219974\n",
      "(Iteration 21 / 200) loss: 2.164361\n",
      "(Iteration 31 / 200) loss: 2.002822\n",
      "(Epoch 1 / 5) train acc: 0.259000; val_acc: 0.248000\n",
      "(Iteration 41 / 200) loss: 2.042769\n",
      "(Iteration 51 / 200) loss: 1.942962\n",
      "(Iteration 61 / 200) loss: 1.849505\n",
      "(Iteration 71 / 200) loss: 1.888281\n",
      "(Epoch 2 / 5) train acc: 0.344000; val_acc: 0.295000\n",
      "(Iteration 81 / 200) loss: 1.844931\n",
      "(Iteration 91 / 200) loss: 1.842993\n",
      "(Iteration 101 / 200) loss: 1.753911\n",
      "(Iteration 111 / 200) loss: 1.785080\n",
      "(Epoch 3 / 5) train acc: 0.395000; val_acc: 0.286000\n",
      "(Iteration 121 / 200) loss: 1.997064\n",
      "(Iteration 131 / 200) loss: 1.703455\n",
      "(Iteration 141 / 200) loss: 1.714794\n",
      "(Iteration 151 / 200) loss: 1.717941\n",
      "(Epoch 4 / 5) train acc: 0.406000; val_acc: 0.308000\n",
      "(Iteration 161 / 200) loss: 1.780920\n",
      "(Iteration 171 / 200) loss: 1.655031\n",
      "(Iteration 181 / 200) loss: 1.765913\n",
      "(Iteration 191 / 200) loss: 1.606832\n",
      "(Epoch 5 / 5) train acc: 0.434000; val_acc: 0.323000\n",
      "\n",
      "running with  sgd_momentum\n",
      "(Iteration 1 / 200) loss: 2.876990\n",
      "(Epoch 0 / 5) train acc: 0.098000; val_acc: 0.098000\n",
      "(Iteration 11 / 200) loss: 2.222225\n",
      "(Iteration 21 / 200) loss: 2.026551\n",
      "(Iteration 31 / 200) loss: 1.988168\n",
      "(Epoch 1 / 5) train acc: 0.357000; val_acc: 0.298000\n",
      "(Iteration 41 / 200) loss: 1.933545\n",
      "(Iteration 51 / 200) loss: 1.828946\n",
      "(Iteration 61 / 200) loss: 1.882871\n",
      "(Iteration 71 / 200) loss: 1.719593\n",
      "(Epoch 2 / 5) train acc: 0.397000; val_acc: 0.302000\n",
      "(Iteration 81 / 200) loss: 1.638416\n",
      "(Iteration 91 / 200) loss: 1.853386\n",
      "(Iteration 101 / 200) loss: 1.680615\n",
      "(Iteration 111 / 200) loss: 1.657128\n",
      "(Epoch 3 / 5) train acc: 0.444000; val_acc: 0.342000\n",
      "(Iteration 121 / 200) loss: 1.614155\n",
      "(Iteration 131 / 200) loss: 1.623297\n",
      "(Iteration 141 / 200) loss: 1.534894\n",
      "(Iteration 151 / 200) loss: 1.438824\n",
      "(Epoch 4 / 5) train acc: 0.473000; val_acc: 0.363000\n",
      "(Iteration 161 / 200) loss: 1.442401\n",
      "(Iteration 171 / 200) loss: 1.247782\n",
      "(Iteration 181 / 200) loss: 1.471305\n",
      "(Iteration 191 / 200) loss: 1.348033\n",
      "(Epoch 5 / 5) train acc: 0.464000; val_acc: 0.321000\n",
      "\n"
     ]
    },
    {
     "name": "stderr",
     "output_type": "stream",
     "text": [
      "/usr/local/lib/python3.7/site-packages/matplotlib/figure.py:98: MatplotlibDeprecationWarning: \n",
      "Adding an axes using the same arguments as a previous axes currently reuses the earlier instance.  In a future version, a new instance will always be created and returned.  Meanwhile, this warning can be suppressed, and the future behavior ensured, by passing a unique label to each axes instance.\n",
      "  \"Adding an axes using the same arguments as a previous axes \"\n"
     ]
    },
    {
     "data": {
      "image/png": "[encoded data removed]",
      "text/plain": [
       "<Figure size 1080x1080 with 3 Axes>"
      ]
     },
     "metadata": {
      "needs_background": "light"
     },
     "output_type": "display_data"
    }
   ],
   "source": [
    "num_train = 4000\n",
    "small_data = {\n",
    "  'X_train': data['X_train'][:num_train],\n",
    "  'y_train': data['y_train'][:num_train],\n",
    "  'X_val': data['X_val'],\n",
    "  'y_val': data['y_val'],\n",
    "}\n",
    "\n",
    "solvers = {}\n",
    "\n",
    "for update_rule in ['sgd', 'sgd_momentum']:\n",
    "  print('running with ', update_rule)\n",
    "  model = FullyConnectedNet([100, 100, 100, 100, 100], weight_scale=5e-2)\n",
    "\n",
    "  solver = Solver(model, small_data,\n",
    "                  num_epochs=5, batch_size=100,\n",
    "                  update_rule=update_rule,\n",
    "                  optim_config={\n",
    "                    'learning_rate': 1e-2,\n",
    "                  },\n",
    "                  verbose=True)\n",
    "  solvers[update_rule] = solver\n",
    "  solver.train()\n",
    "  print()\n",
    "\n",
    "plt.subplot(3, 1, 1)\n",
    "plt.title('Training loss')\n",
    "plt.xlabel('Iteration')\n",
    "\n",
    "plt.subplot(3, 1, 2)\n",
    "plt.title('Training accuracy')\n",
    "plt.xlabel('Epoch')\n",
    "\n",
    "plt.subplot(3, 1, 3)\n",
    "plt.title('Validation accuracy')\n",
    "plt.xlabel('Epoch')\n",
    "\n",
    "for update_rule, solver in list(solvers.items()):\n",
    "  plt.subplot(3, 1, 1)\n",
    "  plt.plot(solver.loss_history, 'o', label=update_rule)\n",
    "  \n",
    "  plt.subplot(3, 1, 2)\n",
    "  plt.plot(solver.train_acc_history, '-o', label=update_rule)\n",
    "\n",
    "  plt.subplot(3, 1, 3)\n",
    "  plt.plot(solver.val_acc_history, '-o', label=update_rule)\n",
    "  \n",
    "for i in [1, 2, 3]:\n",
    "  plt.subplot(3, 1, i)\n",
    "  plt.legend(loc='upper center', ncol=4)\n",
    "plt.gcf().set_size_inches(15, 15)\n",
    "plt.show()"
   ]
  },
  {
   "cell_type": "markdown",
   "metadata": {},
   "source": [
    "# RMSProp and Adam\n",
    "RMSProp [1] and Adam [2] are update rules that set per-parameter learning rates by using a running average of the second moments of gradients.\n",
    "\n",
    "In the file `cs231n/optim.py`, implement the RMSProp update rule in the `rmsprop` function and implement the Adam update rule in the `adam` function, and check your implementations using the tests below.\n",
    "\n",
    "[1] Tijmen Tieleman and Geoffrey Hinton. \"Lecture 6.5-rmsprop: Divide the gradient by a running average of its recent magnitude.\" COURSERA: Neural Networks for Machine Learning 4 (2012).\n",
    "\n",
    "[2] Diederik Kingma and Jimmy Ba, \"Adam: A Method for Stochastic Optimization\", ICLR 2015."
   ]
  },
  {
   "cell_type": "code",
   "execution_count": null,
   "metadata": {},
   "outputs": [],
   "source": [
    "# Test RMSProp implementation; you should see errors less than 1e-7\n",
    "from cs231n.optim import rmsprop\n",
    "\n",
    "N, D = 4, 5\n",
    "w = np.linspace(-0.4, 0.6, num=N*D).reshape(N, D)\n",
    "dw = np.linspace(-0.6, 0.4, num=N*D).reshape(N, D)\n",
    "cache = np.linspace(0.6, 0.9, num=N*D).reshape(N, D)\n",
    "\n",
    "config = {'learning_rate': 1e-2, 'cache': cache}\n",
    "next_w, _ = rmsprop(w, dw, config=config)\n",
    "\n",
    "expected_next_w = np.asarray([\n",
    "  [-0.39223849, -0.34037513, -0.28849239, -0.23659121, -0.18467247],\n",
    "  [-0.132737,   -0.08078555, -0.02881884,  0.02316247,  0.07515774],\n",
    "  [ 0.12716641,  0.17918792,  0.23122175,  0.28326742,  0.33532447],\n",
    "  [ 0.38739248,  0.43947102,  0.49155973,  0.54365823,  0.59576619]])\n",
    "expected_cache = np.asarray([\n",
    "  [ 0.5976,      0.6126277,   0.6277108,   0.64284931,  0.65804321],\n",
    "  [ 0.67329252,  0.68859723,  0.70395734,  0.71937285,  0.73484377],\n",
    "  [ 0.75037008,  0.7659518,   0.78158892,  0.79728144,  0.81302936],\n",
    "  [ 0.82883269,  0.84469141,  0.86060554,  0.87657507,  0.8926    ]])\n",
    "\n",
    "print('next_w error: ', rel_error(expected_next_w, next_w))\n",
    "print('cache error: ', rel_error(expected_cache, config['cache']))"
   ]
  },
  {
   "cell_type": "code",
   "execution_count": null,
   "metadata": {},
   "outputs": [],
   "source": [
    "# Test Adam implementation; you should see errors around 1e-7 or less\n",
    "from cs231n.optim import adam\n",
    "\n",
    "N, D = 4, 5\n",
    "w = np.linspace(-0.4, 0.6, num=N*D).reshape(N, D)\n",
    "dw = np.linspace(-0.6, 0.4, num=N*D).reshape(N, D)\n",
    "m = np.linspace(0.6, 0.9, num=N*D).reshape(N, D)\n",
    "v = np.linspace(0.7, 0.5, num=N*D).reshape(N, D)\n",
    "\n",
    "config = {'learning_rate': 1e-2, 'm': m, 'v': v, 't': 5}\n",
    "next_w, _ = adam(w, dw, config=config)\n",
    "\n",
    "expected_next_w = np.asarray([\n",
    "  [-0.40094747, -0.34836187, -0.29577703, -0.24319299, -0.19060977],\n",
    "  [-0.1380274,  -0.08544591, -0.03286534,  0.01971428,  0.0722929],\n",
    "  [ 0.1248705,   0.17744702,  0.23002243,  0.28259667,  0.33516969],\n",
    "  [ 0.38774145,  0.44031188,  0.49288093,  0.54544852,  0.59801459]])\n",
    "expected_v = np.asarray([\n",
    "  [ 0.69966,     0.68908382,  0.67851319,  0.66794809,  0.65738853,],\n",
    "  [ 0.64683452,  0.63628604,  0.6257431,   0.61520571,  0.60467385,],\n",
    "  [ 0.59414753,  0.58362676,  0.57311152,  0.56260183,  0.55209767,],\n",
    "  [ 0.54159906,  0.53110598,  0.52061845,  0.51013645,  0.49966,   ]])\n",
    "expected_m = np.asarray([\n",
    "  [ 0.48,        0.49947368,  0.51894737,  0.53842105,  0.55789474],\n",
    "  [ 0.57736842,  0.59684211,  0.61631579,  0.63578947,  0.65526316],\n",
    "  [ 0.67473684,  0.69421053,  0.71368421,  0.73315789,  0.75263158],\n",
    "  [ 0.77210526,  0.79157895,  0.81105263,  0.83052632,  0.85      ]])\n",
    "\n",
    "print('next_w error: ', rel_error(expected_next_w, next_w))\n",
    "print('v error: ', rel_error(expected_v, config['v']))\n",
    "print('m error: ', rel_error(expected_m, config['m']))"
   ]
  },
  {
   "cell_type": "markdown",
   "metadata": {},
   "source": [
    "Once you have debugged your RMSProp and Adam implementations, run the following to train a pair of deep networks using these new update rules:"
   ]
  },
  {
   "cell_type": "code",
   "execution_count": null,
   "metadata": {},
   "outputs": [],
   "source": [
    "learning_rates = {'rmsprop': 1e-4, 'adam': 1e-3}\n",
    "for update_rule in ['adam', 'rmsprop']:\n",
    "  print('running with ', update_rule)\n",
    "  model = FullyConnectedNet([100, 100, 100, 100, 100], weight_scale=5e-2)\n",
    "\n",
    "  solver = Solver(model, small_data,\n",
    "                  num_epochs=5, batch_size=100,\n",
    "                  update_rule=update_rule,\n",
    "                  optim_config={\n",
    "                    'learning_rate': learning_rates[update_rule]\n",
    "                  },\n",
    "                  verbose=True)\n",
    "  solvers[update_rule] = solver\n",
    "  solver.train()\n",
    "  print()\n",
    "\n",
    "plt.subplot(3, 1, 1)\n",
    "plt.title('Training loss')\n",
    "plt.xlabel('Iteration')\n",
    "\n",
    "plt.subplot(3, 1, 2)\n",
    "plt.title('Training accuracy')\n",
    "plt.xlabel('Epoch')\n",
    "\n",
    "plt.subplot(3, 1, 3)\n",
    "plt.title('Validation accuracy')\n",
    "plt.xlabel('Epoch')\n",
    "\n",
    "for update_rule, solver in list(solvers.items()):\n",
    "  plt.subplot(3, 1, 1)\n",
    "  plt.plot(solver.loss_history, 'o', label=update_rule)\n",
    "  \n",
    "  plt.subplot(3, 1, 2)\n",
    "  plt.plot(solver.train_acc_history, '-o', label=update_rule)\n",
    "\n",
    "  plt.subplot(3, 1, 3)\n",
    "  plt.plot(solver.val_acc_history, '-o', label=update_rule)\n",
    "  \n",
    "for i in [1, 2, 3]:\n",
    "  plt.subplot(3, 1, i)\n",
    "  plt.legend(loc='upper center', ncol=4)\n",
    "plt.gcf().set_size_inches(15, 15)\n",
    "plt.show()"
   ]
  },
  {
   "cell_type": "markdown",
   "metadata": {},
   "source": [
    "# Train a good model!\n",
    "Train the best fully-connected model that you can on CIFAR-10, storing your best model in the `best_model` variable. We require you to get at least 50% accuracy on the validation set using a fully-connected net.\n",
    "\n",
    "If you are careful it should be possible to get accuracies above 55%, but we don't require it for this part and won't assign extra credit for doing so. Later in the assignment we will ask you to train the best convolutional network that you can on CIFAR-10, and we would prefer that you spend your effort working on convolutional nets rather than fully-connected nets.\n",
    "\n",
    "You might find it useful to complete the `BatchNormalization.ipynb` and `Dropout.ipynb` notebooks before completing this part, since those techniques can help you train powerful models."
   ]
  },
  {
   "cell_type": "code",
   "execution_count": null,
   "metadata": {
    "scrolled": false
   },
   "outputs": [],
   "source": [
    "best_model = None\n",
    "################################################################################\n",
    "# TODO: Train the best FullyConnectedNet that you can on CIFAR-10. You might   #\n",
    "# batch normalization and dropout useful. Store your best model in the         #\n",
    "# best_model variable.                                                         #\n",
    "################################################################################\n",
    "pass\n",
    "################################################################################\n",
    "#                              END OF YOUR CODE                                #\n",
    "################################################################################"
   ]
  },
  {
   "cell_type": "markdown",
   "metadata": {},
   "source": [
    "# Test you model\n",
    "Run your best model on the validation and test sets. You should achieve above 50% accuracy on the validation set."
   ]
  },
  {
   "cell_type": "code",
   "execution_count": null,
   "metadata": {},
   "outputs": [],
   "source": [
    "y_test_pred = np.argmax(best_model.loss(data['X_test']), axis=1)\n",
    "y_val_pred = np.argmax(best_model.loss(data['X_val']), axis=1)\n",
    "print('Validation set accuracy: ', (y_val_pred == data['y_val']).mean())\n",
    "print('Test set accuracy: ', (y_test_pred == data['y_test']).mean())"
   ]
  }
 ],
 "metadata": {
  "kernelspec": {
   "display_name": "Python 3",
   "language": "python",
   "name": "python3"
  },
  "language_info": {
   "codemirror_mode": {
    "name": "ipython",
    "version": 3
   },
   "file_extension": ".py",
   "mimetype": "text/x-python",
   "name": "python",
   "nbconvert_exporter": "python",
   "pygments_lexer": "ipython3",
   "version": "3.7.3"
  }
 },
 "nbformat": 4,
 "nbformat_minor": 1
}
